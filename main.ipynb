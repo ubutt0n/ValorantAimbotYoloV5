{
 "cells": [
  {
   "cell_type": "code",
   "execution_count": 1,
   "metadata": {},
   "outputs": [],
   "source": [
    "import matplotlib.pyplot as plt\n",
    "import numpy as np\n",
    "import torch\n",
    "import cv2"
   ]
  },
  {
   "cell_type": "code",
   "execution_count": 2,
   "metadata": {},
   "outputs": [],
   "source": [
    "import pyautogui\n",
    "import cv2\n",
    "import numpy as np"
   ]
  },
  {
   "cell_type": "code",
   "execution_count": 3,
   "metadata": {},
   "outputs": [],
   "source": [
    "import uuid\n",
    "import os\n",
    "import time"
   ]
  },
  {
   "cell_type": "code",
   "execution_count": 4,
   "metadata": {},
   "outputs": [],
   "source": [
    "IMAGES_PATH = os.path.join('data', 'img')\n",
    "number_img = 500"
   ]
  },
  {
   "cell_type": "code",
   "execution_count": 5,
   "metadata": {},
   "outputs": [
    {
     "data": {
      "text/plain": [
       "\"for img_num in range(number_img):\\n    print(img_num)\\n\\n    screen = np.array(pyautogui.screenshot())\\n\\n    imgname = os.path.join(IMAGES_PATH, str(uuid.uuid1()) + '.jpg')\\n    corr_colors = cv2.resize(cv2.cvtColor(screen, cv2.COLOR_RGB2BGR), (1000, 1000))\\n    cv2.imwrite(imgname, corr_colors)\\n\\n    cv2.imshow('YOLO', corr_colors)\\n\\n    time.sleep(0.25)\\n\\n    if cv2.waitKey(1) & 0xFF==ord('q'):\\n        break\\ncv2.destroyAllWindows()\""
      ]
     },
     "execution_count": 5,
     "metadata": {},
     "output_type": "execute_result"
    }
   ],
   "source": [
    "# Collecting screenshots from game\n",
    "'''for img_num in range(number_img):\n",
    "    print(img_num)\n",
    "\n",
    "    screen = np.array(pyautogui.screenshot())\n",
    "\n",
    "    imgname = os.path.join(IMAGES_PATH, str(uuid.uuid1()) + '.jpg')\n",
    "    corr_colors = cv2.resize(cv2.cvtColor(screen, cv2.COLOR_RGB2BGR), (1000, 1000))\n",
    "    cv2.imwrite(imgname, corr_colors)\n",
    "\n",
    "    cv2.imshow('YOLO', corr_colors)\n",
    "\n",
    "    time.sleep(0.25)\n",
    "\n",
    "    if cv2.waitKey(1) & 0xFF==ord('q'):\n",
    "        break\n",
    "cv2.destroyAllWindows()'''"
   ]
  },
  {
   "cell_type": "code",
   "execution_count": 6,
   "metadata": {},
   "outputs": [],
   "source": [
    "import torch\n",
    "import os\n",
    "import matplotlib.pyplot as plt\n",
    "import numpy as np"
   ]
  },
  {
   "cell_type": "code",
   "execution_count": 7,
   "metadata": {},
   "outputs": [
    {
     "name": "stderr",
     "output_type": "stream",
     "text": [
      "YOLOv5  v6.1-51-g9cd89b7 torch 1.11.0 CUDA:0 (GeForce GTX 1050 Ti, 4096MiB)\n",
      "\n",
      "Fusing layers... \n",
      "Model Summary: 213 layers, 7015519 parameters, 0 gradients, 15.8 GFLOPs\n",
      "Adding AutoShape... \n"
     ]
    }
   ],
   "source": [
    "model = torch.hub.load('yolov5', 'custom', source='local', path='yolov5/runs/train/exp38/weights/best.pt')"
   ]
  },
  {
   "cell_type": "code",
   "execution_count": 8,
   "metadata": {},
   "outputs": [],
   "source": [
    "img = os.path.join('data', 'img', '1de3a795-a991-11ec-ab28-b42e992b459b.jpg')"
   ]
  },
  {
   "cell_type": "code",
   "execution_count": 9,
   "metadata": {},
   "outputs": [],
   "source": [
    "results = model(img)"
   ]
  },
  {
   "cell_type": "code",
   "execution_count": 10,
   "metadata": {},
   "outputs": [],
   "source": [
    "import cv2\n",
    "import pyautogui\n",
    "import time\n",
    "import numpy as np"
   ]
  },
  {
   "cell_type": "code",
   "execution_count": 19,
   "metadata": {},
   "outputs": [],
   "source": [
    "while True:\n",
    "    screen = np.array(pyautogui.screenshot())\n",
    "    corr_colors = cv2.resize(cv2.cvtColor(screen, cv2.COLOR_RGB2BGR), (416, 416))\n",
    "    results = model(corr_colors)\n",
    "\n",
    "    cv2.imshow('YOLO', np.squeeze(results.render()))\n",
    "    res_pandas = results.pandas().xyxy[0]\n",
    "    if len(res_pandas.loc[res_pandas['name'] == 'head'].index) == 0:\n",
    "        res_pandas = res_pandas.loc[res_pandas['name'] == 'body']\n",
    "    else: res_pandas = res_pandas.loc[res_pandas['name'] == 'head']\n",
    "    x1 = np.array(res_pandas['xmin'])\n",
    "    y1 = np.array(res_pandas['ymin'])\n",
    "    x2 = np.array(res_pandas['xmax'])\n",
    "    y2 = np.array(res_pandas['ymax'])\n",
    "    if len(res_pandas.index) != 0: \n",
    "        cordsx = np.mean(np.array([x1, x2]))\n",
    "        cordsy = np.mean(np.array([y1, y2]))\n",
    "        pyautogui.moveTo(cordsx*(1920/416), cordsy*(1080/416), duration=0.2)\n",
    "\n",
    "    time.sleep(1)\n",
    "\n",
    "    if cv2.waitKey(1) & 0xFF==ord('q'):\n",
    "        break\n",
    "cv2.destroyAllWindows()"
   ]
  }
 ],
 "metadata": {
  "interpreter": {
   "hash": "0d6a89e45fc434c5686f71655aca7b01c9107bac42e99836db44b0e233d76842"
  },
  "kernelspec": {
   "display_name": "Python 3.9.7 ('base')",
   "language": "python",
   "name": "python3"
  },
  "language_info": {
   "codemirror_mode": {
    "name": "ipython",
    "version": 3
   },
   "file_extension": ".py",
   "mimetype": "text/x-python",
   "name": "python",
   "nbconvert_exporter": "python",
   "pygments_lexer": "ipython3",
   "version": "3.9.7"
  },
  "orig_nbformat": 4
 },
 "nbformat": 4,
 "nbformat_minor": 2
}
